{
  "nbformat": 4,
  "nbformat_minor": 0,
  "metadata": {
    "colab": {
      "name": "“EC500_ProgrammingSet1_SOLUTIONS.ipynb”的副本",
      "provenance": [],
      "collapsed_sections": [],
      "include_colab_link": true
    },
    "kernelspec": {
      "name": "python3",
      "display_name": "Python 3"
    },
    "accelerator": "GPU",
    "widgets": {
      "application/vnd.jupyter.widget-state+json": {
        "d95475c8d49c4c5da81cca6eeee881b0": {
          "model_module": "@jupyter-widgets/controls",
          "model_name": "HBoxModel",
          "state": {
            "_view_name": "HBoxView",
            "_dom_classes": [],
            "_model_name": "HBoxModel",
            "_view_module": "@jupyter-widgets/controls",
            "_model_module_version": "1.5.0",
            "_view_count": null,
            "_view_module_version": "1.5.0",
            "box_style": "",
            "layout": "IPY_MODEL_619071449cd64c69bfece522f2c9d2ec",
            "_model_module": "@jupyter-widgets/controls",
            "children": [
              "IPY_MODEL_61c643c4f9504c338d6ab2d37563ba00",
              "IPY_MODEL_498f2867266d40bab9fc818bfa00ed71"
            ]
          },
          "model_module_version": "1.5.0"
        },
        "619071449cd64c69bfece522f2c9d2ec": {
          "model_module": "@jupyter-widgets/base",
          "model_name": "LayoutModel",
          "state": {
            "_view_name": "LayoutView",
            "grid_template_rows": null,
            "right": null,
            "justify_content": null,
            "_view_module": "@jupyter-widgets/base",
            "overflow": null,
            "_model_module_version": "1.2.0",
            "_view_count": null,
            "flex_flow": null,
            "width": null,
            "min_width": null,
            "border": null,
            "align_items": null,
            "bottom": null,
            "_model_module": "@jupyter-widgets/base",
            "top": null,
            "grid_column": null,
            "overflow_y": null,
            "overflow_x": null,
            "grid_auto_flow": null,
            "grid_area": null,
            "grid_template_columns": null,
            "flex": null,
            "_model_name": "LayoutModel",
            "justify_items": null,
            "grid_row": null,
            "max_height": null,
            "align_content": null,
            "visibility": null,
            "align_self": null,
            "height": null,
            "min_height": null,
            "padding": null,
            "grid_auto_rows": null,
            "grid_gap": null,
            "max_width": null,
            "order": null,
            "_view_module_version": "1.2.0",
            "grid_template_areas": null,
            "object_position": null,
            "object_fit": null,
            "grid_auto_columns": null,
            "margin": null,
            "display": null,
            "left": null
          },
          "model_module_version": "1.2.0"
        },
        "61c643c4f9504c338d6ab2d37563ba00": {
          "model_module": "@jupyter-widgets/controls",
          "model_name": "FloatProgressModel",
          "state": {
            "_view_name": "ProgressView",
            "style": "IPY_MODEL_126a1f00a975474296e65a4b82d5b934",
            "_dom_classes": [],
            "description": "",
            "_model_name": "FloatProgressModel",
            "bar_style": "info",
            "max": 1,
            "_view_module": "@jupyter-widgets/controls",
            "_model_module_version": "1.5.0",
            "value": 1,
            "_view_count": null,
            "_view_module_version": "1.5.0",
            "orientation": "horizontal",
            "min": 0,
            "description_tooltip": null,
            "_model_module": "@jupyter-widgets/controls",
            "layout": "IPY_MODEL_bd955b849f534eca89768f5a1a80c481"
          },
          "model_module_version": "1.5.0"
        },
        "498f2867266d40bab9fc818bfa00ed71": {
          "model_module": "@jupyter-widgets/controls",
          "model_name": "HTMLModel",
          "state": {
            "_view_name": "HTMLView",
            "style": "IPY_MODEL_1b6ade9797a441b68c96111dc897c4b2",
            "_dom_classes": [],
            "description": "",
            "_model_name": "HTMLModel",
            "placeholder": "​",
            "_view_module": "@jupyter-widgets/controls",
            "_model_module_version": "1.5.0",
            "value": " 170500096/? [00:20&lt;00:00, 95653585.65it/s]",
            "_view_count": null,
            "_view_module_version": "1.5.0",
            "description_tooltip": null,
            "_model_module": "@jupyter-widgets/controls",
            "layout": "IPY_MODEL_0edb3b1e05064a06b22ab3d1a182308f"
          },
          "model_module_version": "1.5.0"
        },
        "126a1f00a975474296e65a4b82d5b934": {
          "model_module": "@jupyter-widgets/controls",
          "model_name": "ProgressStyleModel",
          "state": {
            "_view_name": "StyleView",
            "_model_name": "ProgressStyleModel",
            "description_width": "initial",
            "_view_module": "@jupyter-widgets/base",
            "_model_module_version": "1.5.0",
            "_view_count": null,
            "_view_module_version": "1.2.0",
            "bar_color": null,
            "_model_module": "@jupyter-widgets/controls"
          },
          "model_module_version": "1.5.0"
        },
        "bd955b849f534eca89768f5a1a80c481": {
          "model_module": "@jupyter-widgets/base",
          "model_name": "LayoutModel",
          "state": {
            "_view_name": "LayoutView",
            "grid_template_rows": null,
            "right": null,
            "justify_content": null,
            "_view_module": "@jupyter-widgets/base",
            "overflow": null,
            "_model_module_version": "1.2.0",
            "_view_count": null,
            "flex_flow": null,
            "width": null,
            "min_width": null,
            "border": null,
            "align_items": null,
            "bottom": null,
            "_model_module": "@jupyter-widgets/base",
            "top": null,
            "grid_column": null,
            "overflow_y": null,
            "overflow_x": null,
            "grid_auto_flow": null,
            "grid_area": null,
            "grid_template_columns": null,
            "flex": null,
            "_model_name": "LayoutModel",
            "justify_items": null,
            "grid_row": null,
            "max_height": null,
            "align_content": null,
            "visibility": null,
            "align_self": null,
            "height": null,
            "min_height": null,
            "padding": null,
            "grid_auto_rows": null,
            "grid_gap": null,
            "max_width": null,
            "order": null,
            "_view_module_version": "1.2.0",
            "grid_template_areas": null,
            "object_position": null,
            "object_fit": null,
            "grid_auto_columns": null,
            "margin": null,
            "display": null,
            "left": null
          },
          "model_module_version": "1.2.0"
        },
        "1b6ade9797a441b68c96111dc897c4b2": {
          "model_module": "@jupyter-widgets/controls",
          "model_name": "DescriptionStyleModel",
          "state": {
            "_view_name": "StyleView",
            "_model_name": "DescriptionStyleModel",
            "description_width": "",
            "_view_module": "@jupyter-widgets/base",
            "_model_module_version": "1.5.0",
            "_view_count": null,
            "_view_module_version": "1.2.0",
            "_model_module": "@jupyter-widgets/controls"
          },
          "model_module_version": "1.5.0"
        },
        "0edb3b1e05064a06b22ab3d1a182308f": {
          "model_module": "@jupyter-widgets/base",
          "model_name": "LayoutModel",
          "state": {
            "_view_name": "LayoutView",
            "grid_template_rows": null,
            "right": null,
            "justify_content": null,
            "_view_module": "@jupyter-widgets/base",
            "overflow": null,
            "_model_module_version": "1.2.0",
            "_view_count": null,
            "flex_flow": null,
            "width": null,
            "min_width": null,
            "border": null,
            "align_items": null,
            "bottom": null,
            "_model_module": "@jupyter-widgets/base",
            "top": null,
            "grid_column": null,
            "overflow_y": null,
            "overflow_x": null,
            "grid_auto_flow": null,
            "grid_area": null,
            "grid_template_columns": null,
            "flex": null,
            "_model_name": "LayoutModel",
            "justify_items": null,
            "grid_row": null,
            "max_height": null,
            "align_content": null,
            "visibility": null,
            "align_self": null,
            "height": null,
            "min_height": null,
            "padding": null,
            "grid_auto_rows": null,
            "grid_gap": null,
            "max_width": null,
            "order": null,
            "_view_module_version": "1.2.0",
            "grid_template_areas": null,
            "object_position": null,
            "object_fit": null,
            "grid_auto_columns": null,
            "margin": null,
            "display": null,
            "left": null
          },
          "model_module_version": "1.2.0"
        }
      }
    }
  },
  "cells": [
    {
      "cell_type": "markdown",
      "metadata": {
        "id": "view-in-github",
        "colab_type": "text"
      },
      "source": [
        "<a href=\"https://colab.research.google.com/github/RockZhang29/EC601_Project/blob/main/%E2%80%9CEC500_ProgrammingSet1_SOLUTIONS_ipynb%E2%80%9D%E7%9A%84%E5%89%AF%E6%9C%AC.ipynb\" target=\"_parent\"><img src=\"https://colab.research.google.com/assets/colab-badge.svg\" alt=\"Open In Colab\"/></a>"
      ]
    },
    {
      "cell_type": "markdown",
      "metadata": {
        "id": "Zp_nCL_eeFqv"
      },
      "source": [
        "**IMPORTANT:** You should run this using a GPU! In Colab, go to the \"runtime\" menu, choose \"change runtime type\", and select \"GPU\" from the hardware accelerator dropdown menu. Otherwise, this might take much longer. With the GPU, it should run in about 10 minutes or less.\n",
        "\n",
        "Although this homeo\n",
        "\n",
        "There are **3** places you need to write code in this notebook, for questions **1**, **2a** and **2b**.\n",
        "\n",
        "To turn in this homework: download as .ipynb (File -> download as .ipynb). Make the filename YOURNAME_HW3.ipynb and send via email attachment to opt4mlclass+program1@gmail.com with your name in the subject line."
      ]
    },
    {
      "cell_type": "code",
      "metadata": {
        "id": "eV3jEpEcUqOa"
      },
      "source": [
        "#imports\n",
        "import torch, torchvision\n",
        "import torchvision.transforms as transforms\n",
        "from torch.optim import Optimizer\n",
        "import numpy as np\n",
        "from matplotlib import pyplot as plt\n",
        "from collections.abc import Iterable"
      ],
      "execution_count": null,
      "outputs": []
    },
    {
      "cell_type": "code",
      "metadata": {
        "id": "jprhL760UwwY"
      },
      "source": [
        "# Basic SGD implementation for reference.\n",
        "# for base class, see https://github.com/pytorch/pytorch/blob/master/torch/optim/optimizer.py\n",
        "# for official pytorch SGD implementation, see https://github.com/pytorch/pytorch/blob/master/torch/optim/sgd.py\n",
        "\n",
        "class SGD(Optimizer):\n",
        "  def __init__(self, params, lr=1.0):\n",
        "    super(SGD, self).__init__(params, {'lr': lr})\n",
        "\n",
        "    # The params argument can be a list of pytorch variables, or\n",
        "    # a list of dicts. If it is a list of dicts, each dict should have \n",
        "    # a key 'params' that is a list of pytorch variables,\n",
        "    # and optionally another key 'lr' that specifies the learning rate\n",
        "    # for those variables. If 'lr' is not provided, the default value\n",
        "    # is the single value provided as an argument after params to this\n",
        "    # constructor.\n",
        "    # If params is just a list of pytorch variables, it is the same\n",
        "    # as if params were actually a list containing a single dictionary\n",
        "    # whose 'params' key value is the list of variables.\n",
        "    # See examples in following code blocks for use of params.\n",
        "\n",
        "    # Set up an iteration counter.\n",
        "    # self.state[p] is a python dict for each parameter p\n",
        "    # that can be used to store various state useful in the optimization\n",
        "    # algorithm. In this case, we simply store the iteration count, although\n",
        "    # it is not used in this simple algorithm.\n",
        "    for group in self.param_groups:\n",
        "      for p in group['params']:\n",
        "        state = self.state[p]\n",
        "        state['step'] = 0\n",
        "\n",
        "\n",
        "  @torch.no_grad()\n",
        "  def step(self, closure=None):\n",
        "    loss = None\n",
        "    if closure is not None:\n",
        "      with torch.enable_grad():\n",
        "        loss = closure()\n",
        "\n",
        "    for group in self.param_groups:\n",
        "      lr = group['lr']\n",
        "\n",
        "      # it is common practice to call the model parameters p in code.\n",
        "      # in class we follow more closely analytical conventions, in which the\n",
        "      # parameters are often called w for weights.\n",
        "      for p in group['params']:\n",
        "        if p.grad is None:\n",
        "          continue\n",
        "        \n",
        "        # Update the iteration counter (again, this is not actually used in this algorithm)\n",
        "        state = self.state[p]\n",
        "        step = state['step']\n",
        "        step += 1\n",
        "        \n",
        "        # Perform the SGD update. p.grad holds the gradient of the loss\n",
        "        # with respect to p.\n",
        "        p.add_(p.grad, alpha=-lr)"
      ],
      "execution_count": null,
      "outputs": []
    },
    {
      "cell_type": "code",
      "metadata": {
        "colab": {
          "base_uri": "https://localhost:8080/",
          "height": 283
        },
        "id": "B7GJhIPkXICX",
        "outputId": "225bef07-296a-4593-b88a-0476d9a6d000"
      },
      "source": [
        "#Simple linear regression problem\n",
        "dimension = 10\n",
        "num_iter = 10000\n",
        "\n",
        "mean = torch.zeros(dimension)\n",
        "std = torch.ones(dimension)\n",
        "\n",
        "def loss_func(w_hat, b_hat, w_true, b_true):\n",
        "  # simple linear regression problem, although\n",
        "  # slightly non-standard loss. See pytorch docs\n",
        "  # for description of loss function.\n",
        "\n",
        "  # features\n",
        "  x = torch.normal(mean, std)\n",
        "\n",
        "  # true label is a linear function of features plus noise.\n",
        "  noise = np.random.normal(0.0, 0.01)\n",
        "  y_true = torch.dot(x, w_true) + b_true + noise\n",
        "\n",
        "  y_hat = torch.dot(x, w_hat) + b_hat\n",
        "\n",
        "  loss = torch.nn.SmoothL1Loss()\n",
        "  return loss(y_hat, y_true)\n",
        "\n",
        "w_true = 10*torch.normal(mean, std)\n",
        "\n",
        "# make true bias term quite large so that it is better\n",
        "# to have a high learning rate for the bias. This makes\n",
        "# it advantageous to use the params as a dict in the \n",
        "# following cell.\n",
        "b_true = torch.normal(torch.zeros(1), torch.ones(1))\n",
        "\n",
        "\n",
        "# declare variables that will actually be trained.\n",
        "# \"requires_grad\" tells pytorch that it may have to compute\n",
        "# gradients with respect to these variables.\n",
        "w = torch.zeros(dimension, requires_grad=True)\n",
        "b = torch.zeros(1, requires_grad=True)\n",
        "\n",
        "optimizer = SGD([w, b], 0.010)\n",
        "\n",
        "losses = []\n",
        "\n",
        "for t in range(num_iter):\n",
        "  optimizer.zero_grad()\n",
        "  loss = loss_func(w, b, w_true, b_true)\n",
        "  loss.backward()\n",
        "  optimizer.step()\n",
        "\n",
        "  losses.append(loss.item())\n",
        "\n",
        "plt.plot(losses)\n",
        "plt.ylabel('loss')\n",
        "plt.xlabel('iteration')\n",
        "plt.xscale('log')\n",
        "plt.yscale('log')\n",
        "plt.show()"
      ],
      "execution_count": null,
      "outputs": [
        {
          "output_type": "display_data",
          "data": {
            "image/png": "[encoded data removed]",
            "text/plain": [
              "<Figure size 432x288 with 1 Axes>"
            ]
          },
          "metadata": {
            "tags": [],
            "needs_background": "light"
          }
        }
      ]
    },
    {
      "cell_type": "code",
      "metadata": {
        "id": "Fo8zvSzpbxgJ",
        "colab": {
          "base_uri": "https://localhost:8080/",
          "height": 283
        },
        "outputId": "76aef197-368e-483c-a17c-05d95a2d5719"
      },
      "source": [
        "\n",
        "w = torch.zeros(dimension, requires_grad=True)\n",
        "b = torch.zeros(1, requires_grad=True)\n",
        "param_groups = [{'params': [w], 'lr': 0.1}, {'params': [b], 'lr': 0.01}]\n",
        "optimizer = SGD(param_groups, 0.10)\n",
        "\n",
        "losses = []\n",
        "for t in range(num_iter):\n",
        "  optimizer.zero_grad()\n",
        "  loss = loss_func(w, b, w_true, b_true)\n",
        "  loss.backward()\n",
        "  optimizer.step()\n",
        "\n",
        "  losses.append(loss.item())\n",
        "\n",
        "plt.plot(losses)\n",
        "plt.ylabel('loss')\n",
        "plt.xlabel('iteration')\n",
        "plt.xscale('log')\n",
        "plt.yscale('log')\n",
        "plt.show()"
      ],
      "execution_count": null,
      "outputs": [
        {
          "output_type": "display_data",
          "data": {
            "image/png": "[encoded data removed]",
            "text/plain": [
              "<Figure size 432x288 with 1 Axes>"
            ]
          },
          "metadata": {
            "tags": [],
            "needs_background": "light"
          }
        }
      ]
    },
    {
      "cell_type": "markdown",
      "metadata": {
        "id": "IgaaUrMPXCt5"
      },
      "source": [
        "Remarks\n",
        "\n",
        "1. What does `@torch.no_grad` do? \n",
        "\n",
        "This tells the pytorch not to record gradient operations for anything that happens inside the function, so it will not be able to compute derivatives of these operations. However, this is important to enable because some operations (like performing an update) inherently should not be differentiated, and pytorch will thrown an error if you do not explicitly tell it that you do not want to differentiate through this operation.\n",
        "\n",
        "2. Why do we need `torch.enable_grad` when using the closure?\n",
        "\n",
        "Computing the closure (which is essentially a fancy name for \"function\") is an alternative to providing the gradient to the optimization step. Instead, the loss $\\ell(w_t, z_t)$ is computed by the closure. However, the closure might need to compute some derivatives, so we turn on `torch.enable_grad`.\n",
        "\n",
        "3. Why do we use `p.add_` as opposed to `p = p - lr*grad`?\n",
        "\n",
        "All pytorch variables (and all python variables except for simple things like integers and chars for that matter) are essentially *pointers*. That is, `p` is a name for an area of computer memory that contains the data for some vector. This makes it fast to pass `p` around to various functions, but if we do `p = z`, this actually means that now `p` refers to the same memory location that `z` is referring to. This is a problem, because the original data has not been changed. `p.add_` instead will change the original data. If you are not familiar with this concept in programming, you may want to do some reading on pass-by-reference vs pass-by-value and pointers.\n",
        "\n",
        "\n",
        "**Question 1**\n",
        "\n",
        "1. Fill out the class below to implement a version of SGD that sets the \"adaptive\" learning rate:\n",
        "$$\n",
        "\\eta_t = \\frac{lr}{\\sqrt{G_t}}\n",
        "$$\n",
        "$lr$ (for \"learning rate\") is provided as input to the algorithm, $t$ is the current iteration count, and\n",
        "$$\n",
        "G_t = \\sum_{i=1}^t \\|\\nabla \\ell(w_t, z_t)\\|^2\n",
        "$$\n",
        "If you are familiar with the AdaGrad update, note that this is NOT the same because of the presence of the norm.\n",
        "\n",
        "Read the `__init__` method carefully as it has changed slightly from the original `SGD` class above.\n",
        "\n"
      ]
    },
    {
      "cell_type": "code",
      "metadata": {
        "id": "1BZwfQwgf-i7"
      },
      "source": [
        "class SGD_adaptive(Optimizer):\n",
        "  def __init__(self, params, lr=1.0):\n",
        "    super(SGD_adaptive, self).__init__(params, {'lr': lr})\n",
        "\n",
        "    for group in self.param_groups:\n",
        "      for p in group['params']:\n",
        "        state = self.state[p]\n",
        "        state['step'] = 0\n",
        "\n",
        "        # make a dictionary entry for Gt. It is just a 1-D vector (a scalar).\n",
        "        # device=p.device tells pytorch to allocate the memory for Gt on the \n",
        "        # same device (e.g. CPU or GPU) as the data for the variable p.\n",
        "        state['Gt'] = torch.zeros(1, device=p.device)\n",
        "\n",
        "  @torch.no_grad()\n",
        "  def step(self, closure=None):\n",
        "    loss = None\n",
        "    if closure is not None:\n",
        "      with torch.enable_grad():\n",
        "        loss = closure()\n",
        "\n",
        "    for group in self.param_groups:\n",
        "      lr = group['lr']\n",
        "      for p in group['params']:\n",
        "        if p.grad is None:\n",
        "          continue\n",
        "        \n",
        "        ####### YOUR CODE HERE ########\n",
        "\n",
        "        # Update the iteration counter (again, this is not actually used in this algorithm)\n",
        "        state = self.state[p]\n",
        "        state['step'] += 1\n",
        "        step = state['step']\n",
        "\n",
        "        state['Gt'].add_(torch.norm(p.grad)**2)\n",
        "        \n",
        "        p.addcdiv_(p.grad, torch.sqrt(state['Gt']), value=-lr)\n"
      ],
      "execution_count": null,
      "outputs": []
    },
    {
      "cell_type": "code",
      "metadata": {
        "colab": {
          "base_uri": "https://localhost:8080/",
          "height": 283
        },
        "id": "AVFwzCFUcewz",
        "outputId": "22bab3ce-76d6-45a0-8292-2132042a1af9"
      },
      "source": [
        "w = torch.zeros(dimension, requires_grad=True)\n",
        "b = torch.zeros(1, requires_grad=True)\n",
        "optimizer = SGD_adaptive([w, b], 1.0)\n",
        "losses = []\n",
        "for t in range(num_iter):\n",
        "  optimizer.zero_grad()\n",
        "  loss = loss_func(w, b, w_true, b_true)\n",
        "  loss.backward()\n",
        "  optimizer.step()\n",
        "\n",
        "  losses.append(loss.item())\n",
        "\n",
        "plt.plot(losses)\n",
        "plt.ylabel('loss')\n",
        "plt.xlabel('iteration')\n",
        "plt.xscale('log')\n",
        "plt.yscale('log')\n",
        "plt.show()"
      ],
      "execution_count": null,
      "outputs": [
        {
          "output_type": "display_data",
          "data": {
            "image/png": "[encoded data removed]",
            "text/plain": [
              "<Figure size 432x288 with 1 Axes>"
            ]
          },
          "metadata": {
            "tags": [],
            "needs_background": "light"
          }
        }
      ]
    },
    {
      "cell_type": "markdown",
      "metadata": {
        "id": "owhhpRSrSCJr"
      },
      "source": [
        "See https://pytorch.org/tutorials/beginner/blitz/cifar10_tutorial.html#sphx-glr-beginner-blitz-cifar10-tutorial-py for some similar example of how to set up the process below, from which much of this was copied."
      ]
    },
    {
      "cell_type": "code",
      "metadata": {
        "id": "JM_sfJdXgkUq",
        "colab": {
          "base_uri": "https://localhost:8080/",
          "height": 84,
          "referenced_widgets": [
            "d95475c8d49c4c5da81cca6eeee881b0",
            "619071449cd64c69bfece522f2c9d2ec",
            "61c643c4f9504c338d6ab2d37563ba00",
            "498f2867266d40bab9fc818bfa00ed71",
            "126a1f00a975474296e65a4b82d5b934",
            "bd955b849f534eca89768f5a1a80c481",
            "1b6ade9797a441b68c96111dc897c4b2",
            "0edb3b1e05064a06b22ab3d1a182308f"
          ]
        },
        "outputId": "8271db47-39e0-4d60-dbe2-c45209f58a16"
      },
      "source": [
        "## These commands create two pytorch \"DataLoader\" objects, one for training\n",
        "# data and one for testing data.\n",
        "# A DataLoader object is essentially a list of training/testing examples with\n",
        "# some extra code attached by pytorch that can send the data to GPUs and other\n",
        "# useful things.\n",
        "\n",
        "# The following three commands produce a torchvision dataset object for both\n",
        "# training and testing data on the CIFAR10 dataset, which is a dataset of images.\n",
        "# these objects are like lists of vectors (the \"transform\" specifies a function\n",
        "# that converts images to vectors\").\n",
        "transform = transforms.Compose(\n",
        "    [transforms.ToTensor(),\n",
        "     transforms.Normalize((0.5, 0.5, 0.5), (0.5, 0.5, 0.5))])\n",
        "CIFAR_train = torchvision.datasets.CIFAR10(root='CIFAR10/', train=True, download=True, transform=transform)\n",
        "CIFAR_test = torchvision.datasets.CIFAR10(root='CIFAR10/', train=False, transform=transform)\n",
        "\n",
        "\n",
        "# The next two lines produce the actual DataLoaders. The batch_size argument sets\n",
        "# the batch size, so that the DataLoader will appear like a list [a,b,c...] where\n",
        "# each entry of the list is a batch of batch_size examples. \n",
        "# Setting shuffle=True makes it so that when you start iterating over the examples\n",
        "# in the DataLoader, it will first shuffle the order of the list.\n",
        "trainloader = torch.utils.data.DataLoader(CIFAR_train, batch_size=16,\n",
        "                                          shuffle=True)\n",
        "testloader = torch.utils.data.DataLoader(CIFAR_test, batch_size=256,\n",
        "                                          shuffle=True)"
      ],
      "execution_count": null,
      "outputs": [
        {
          "output_type": "stream",
          "text": [
            "Downloading https://www.cs.toronto.edu/~kriz/cifar-10-python.tar.gz to CIFAR10/cifar-10-python.tar.gz\n"
          ],
          "name": "stdout"
        },
        {
          "output_type": "display_data",
          "data": {
            "application/vnd.jupyter.widget-view+json": {
              "model_id": "d95475c8d49c4c5da81cca6eeee881b0",
              "version_minor": 0,
              "version_major": 2
            },
            "text/plain": [
              "HBox(children=(FloatProgress(value=1.0, bar_style='info', max=1.0), HTML(value='')))"
            ]
          },
          "metadata": {
            "tags": []
          }
        },
        {
          "output_type": "stream",
          "text": [
            "Extracting CIFAR10/cifar-10-python.tar.gz to CIFAR10/\n"
          ],
          "name": "stdout"
        }
      ]
    },
    {
      "cell_type": "markdown",
      "metadata": {
        "id": "bDj7DlsZeEEg"
      },
      "source": [
        ""
      ]
    },
    {
      "cell_type": "code",
      "metadata": {
        "colab": {
          "base_uri": "https://localhost:8080/"
        },
        "id": "IcoCaPmQhBra",
        "outputId": "f1972d9c-0395-47ec-a13f-2329d1a262d5"
      },
      "source": [
        "device = torch.device(\"cuda:0\" if torch.cuda.is_available() else \"cpu\")\n",
        "\n",
        "# Assuming that we are on a CUDA machine, this should print a CUDA device:\n",
        "print(device)\n"
      ],
      "execution_count": null,
      "outputs": [
        {
          "output_type": "stream",
          "text": [
            "cuda:0\n"
          ],
          "name": "stdout"
        }
      ]
    },
    {
      "cell_type": "code",
      "metadata": {
        "id": "UQsA0rWgQrUn"
      },
      "source": [
        "## Please read the function signatures and doc string for \"train_resnet\" function.\n",
        "# You do not need to otherwise understand how it works to do this homework. ##\n",
        "\n",
        "def adjust_learning_rate(optimizer, lr):\n",
        "    for param_group in optimizer.param_groups:\n",
        "        param_group['lr'] = lr\n",
        "\n",
        "def train_resnet(optimizer, train_loader, device, lrs, wd=0.01, model=None):\n",
        "  '''\n",
        "  Trains a resnet model on CIFAR10 data.\n",
        "\n",
        "  args:\n",
        "    optimizer: optimizer class that will be instantiated inside this function.\n",
        "    train_loader: pytorch DataLoader object that provides the training examples.\n",
        "    device: pytorch device to use (e.g. a GPU).\n",
        "    lrs: list of learning rates. The length of the list is the number of epochs\n",
        "      to train for. At the start of the ith epoch, the 'lr' parameter of the\n",
        "      optimizer will be set to lrs[i].\n",
        "    wd: l2 regularization constant.\n",
        "    model: can provide a preset pytorch model to train from a checkpoint. If \n",
        "      None, will instantiate a fresh resnet18 model.\n",
        "\n",
        "  returns:\n",
        "    the trained pytorch model object.\n",
        "  '''\n",
        "\n",
        "  if model is None:\n",
        "    model = torchvision.models.resnet18(pretrained=False)\n",
        "  model.to(device)\n",
        "\n",
        "\n",
        "  # define \\ell as the cross-entropy function.\n",
        "  # this function as implemented in pytorch actually combines both the softmax\n",
        "  # and the cross entropy function into one. As a result, it is\n",
        "  # is non-negative, smooth, Lipschitz, and convex in its argument, which\n",
        "  # are the predicted scores for various classes output by some model.\n",
        "  # Note that this does NOT necessarily imply that it has these properties\n",
        "  # with respect to the parameters of the model.\n",
        "  cross_entropy_loss = torch.nn.CrossEntropyLoss()\n",
        "\n",
        "  optimizer = SGD_adaptive(model.parameters(), lrs[0])\n",
        "\n",
        "  num_epochs = len(lrs)\n",
        "\n",
        "  average_loss = 0.0\n",
        "\n",
        "  for epoch, lr in enumerate(lrs):#range(num_epochs):\n",
        "    # iterate over training set.\n",
        "    # i is index of example, data is the example (e.g. z_i).\n",
        "    # because shuffle=True when defining the trainloader,\n",
        "    # the training set is shuffled after every complete pass.\n",
        "\n",
        "    adjust_learning_rate(optimizer, lr)\n",
        "\n",
        "    for i, data in enumerate(train_loader):\n",
        "      # unpack the example data: inputs is a batch of images,\n",
        "      # labels is a batch of labels.\n",
        "      inputs, labels = data\n",
        "      inputs = inputs.to(device)\n",
        "      labels = labels.to(device)\n",
        "\n",
        "      # pytorch will keep details from old gradients around in case you are going\n",
        "      # to differentiate something else. We therefore need to delete this old\n",
        "      # data before computing the loss so that we only have the gradient\n",
        "      # for this iteration.\n",
        "      optimizer.zero_grad()\n",
        "\n",
        "      predicted_labels = model.forward(inputs)\n",
        "      loss = cross_entropy_loss(predicted_labels, labels)\n",
        "\n",
        "      weight_decay = wd * 0.5 * sum([torch.linalg.norm(p)**2 for p in model.parameters()])\n",
        "\n",
        "      regularized_loss = loss + weight_decay\n",
        "\n",
        "      # tell pytorch to compute some gradients\n",
        "      regularized_loss.backward()\n",
        "\n",
        "      optimizer.step()\n",
        "\n",
        "      \n",
        "\n",
        "      average_loss += (loss.item() - average_loss)/(i+1)\n",
        "\n",
        "      if i % 200 == 199: \n",
        "        print('[In epoch %d, iteration %d] loss: %.3f' %\n",
        "              (epoch + 1, i+1, average_loss))\n",
        "\n",
        "\n",
        "    print('[After epoch %d] loss: %.3f' %\n",
        "          (epoch + 1, average_loss))\n",
        "    average_loss = 0.0\n",
        "\n",
        "  print('Finished Training')\n",
        "\n",
        "  return model\n"
      ],
      "execution_count": null,
      "outputs": []
    },
    {
      "cell_type": "code",
      "metadata": {
        "colab": {
          "base_uri": "https://localhost:8080/"
        },
        "id": "6ZEClnnmfy7f",
        "outputId": "5a689993-60c9-41aa-85b6-0fcfefc3b7b7"
      },
      "source": [
        "trained_model = train_resnet(SGD_adaptive, trainloader, device, lrs=[0.1, 0.1, 0.1])"
      ],
      "execution_count": null,
      "outputs": [
        {
          "output_type": "stream",
          "text": [
            "[In epoch 1, iteration 200] loss: 2.755\n",
            "[In epoch 1, iteration 400] loss: 2.394\n",
            "[In epoch 1, iteration 600] loss: 2.240\n",
            "[In epoch 1, iteration 800] loss: 2.153\n",
            "[In epoch 1, iteration 1000] loss: 2.087\n",
            "[In epoch 1, iteration 1200] loss: 2.045\n",
            "[In epoch 1, iteration 1400] loss: 2.011\n",
            "[In epoch 1, iteration 1600] loss: 1.981\n",
            "[In epoch 1, iteration 1800] loss: 1.955\n",
            "[In epoch 1, iteration 2000] loss: 1.936\n",
            "[In epoch 1, iteration 2200] loss: 1.915\n",
            "[In epoch 1, iteration 2400] loss: 1.897\n",
            "[In epoch 1, iteration 2600] loss: 1.881\n",
            "[In epoch 1, iteration 2800] loss: 1.866\n",
            "[In epoch 1, iteration 3000] loss: 1.853\n",
            "[After epoch 1] loss: 1.845\n",
            "[In epoch 2, iteration 200] loss: 1.614\n",
            "[In epoch 2, iteration 400] loss: 1.620\n",
            "[In epoch 2, iteration 600] loss: 1.611\n",
            "[In epoch 2, iteration 800] loss: 1.610\n",
            "[In epoch 2, iteration 1000] loss: 1.608\n",
            "[In epoch 2, iteration 1200] loss: 1.607\n",
            "[In epoch 2, iteration 1400] loss: 1.605\n",
            "[In epoch 2, iteration 1600] loss: 1.606\n",
            "[In epoch 2, iteration 1800] loss: 1.608\n",
            "[In epoch 2, iteration 2000] loss: 1.608\n",
            "[In epoch 2, iteration 2200] loss: 1.606\n",
            "[In epoch 2, iteration 2400] loss: 1.603\n",
            "[In epoch 2, iteration 2600] loss: 1.599\n",
            "[In epoch 2, iteration 2800] loss: 1.595\n",
            "[In epoch 2, iteration 3000] loss: 1.592\n",
            "[After epoch 2] loss: 1.590\n",
            "[In epoch 3, iteration 200] loss: 1.564\n",
            "[In epoch 3, iteration 400] loss: 1.545\n",
            "[In epoch 3, iteration 600] loss: 1.535\n",
            "[In epoch 3, iteration 800] loss: 1.532\n",
            "[In epoch 3, iteration 1000] loss: 1.534\n",
            "[In epoch 3, iteration 1200] loss: 1.535\n",
            "[In epoch 3, iteration 1400] loss: 1.535\n",
            "[In epoch 3, iteration 1600] loss: 1.534\n",
            "[In epoch 3, iteration 1800] loss: 1.533\n",
            "[In epoch 3, iteration 2000] loss: 1.530\n",
            "[In epoch 3, iteration 2200] loss: 1.529\n",
            "[In epoch 3, iteration 2400] loss: 1.527\n",
            "[In epoch 3, iteration 2600] loss: 1.527\n",
            "[In epoch 3, iteration 2800] loss: 1.525\n",
            "[In epoch 3, iteration 3000] loss: 1.525\n",
            "[After epoch 3] loss: 1.522\n",
            "Finished Training\n"
          ],
          "name": "stdout"
        }
      ]
    },
    {
      "cell_type": "code",
      "metadata": {
        "id": "rbHMj8JOm52O"
      },
      "source": [
        "# These functions take input a trained model and return either the train or\n",
        "# test accuracy.\n",
        "def get_train_accuracy(trained_model):\n",
        "  correct = 0\n",
        "  total = 0\n",
        "  with torch.no_grad():\n",
        "    trainloader = torch.utils.data.DataLoader(CIFAR_train, batch_size=256, num_workers=2)\n",
        "    for data in trainloader:\n",
        "      images, labels = data\n",
        "      images = images.to(device)\n",
        "      labels = labels.to(device)\n",
        "      outputs = trained_model(images)\n",
        "      _, predicted = torch.max(outputs.data, 1)\n",
        "      total += labels.size(0)\n",
        "      correct += (predicted == labels).sum().item()\n",
        "  return 100 * correct / total\n",
        "\n",
        "def get_test_accuracy(trained_model):\n",
        "  correct = 0\n",
        "  total = 0\n",
        "  with torch.no_grad():\n",
        "    testloader = torch.utils.data.DataLoader(CIFAR_test, batch_size=256, num_workers=2)\n",
        "    for data in testloader:\n",
        "      images, labels = data\n",
        "      images = images.to(device)\n",
        "      labels = labels.to(device)\n",
        "      outputs = trained_model(images)\n",
        "      _, predicted = torch.max(outputs.data, 1)\n",
        "      total += labels.size(0)\n",
        "      correct += (predicted == labels).sum().item()\n",
        "  return 100 * correct / total"
      ],
      "execution_count": null,
      "outputs": []
    },
    {
      "cell_type": "code",
      "metadata": {
        "colab": {
          "base_uri": "https://localhost:8080/"
        },
        "id": "lFBWPlufSliV",
        "outputId": "f225e1b4-1cd7-46dc-a8fb-9142bd4a8c77"
      },
      "source": [
        "test_accuracy = get_test_accuracy(trained_model)\n",
        "print(\"test accuracy: %d\", test_accuracy)"
      ],
      "execution_count": null,
      "outputs": [
        {
          "output_type": "stream",
          "text": [
            "test accuracy: %d 49.25\n"
          ],
          "name": "stdout"
        }
      ]
    },
    {
      "cell_type": "markdown",
      "metadata": {
        "id": "kj4DLWC1CIyG"
      },
      "source": [
        "**Question 2a** Write a function that returns a DataLoader object (like the `trainloader` variable) for the training set that uses the provided argument as a batch size."
      ]
    },
    {
      "cell_type": "code",
      "metadata": {
        "id": "hjSH4rPceb5J"
      },
      "source": [
        "def get_trainloader(batch_size):\n",
        "  ### YOUR CODE HERE ###\n",
        "  trainloader = torch.utils.data.DataLoader(CIFAR_train, batch_size=batch_size,\n",
        "                                            shuffle=True)\n",
        "  return trainloader\n"
      ],
      "execution_count": null,
      "outputs": []
    },
    {
      "cell_type": "markdown",
      "metadata": {
        "id": "_ccDYE29-WJ7"
      },
      "source": [
        "**Question 2b** Now, for each batch size in `[16, 64, 256]`, populate the dictionary `trained_models` with a model trained using that batch size for three epochs using `train_resnet`, the `SGD_adaptive` algorithm. Then run the next cell, which will print the train and test accuracies. Try to tune the learning rate schedules to get the best test performance at batch size 16. You should get close to or better than 70%."
      ]
    },
    {
      "cell_type": "code",
      "metadata": {
        "colab": {
          "base_uri": "https://localhost:8080/"
        },
        "id": "aMG7M0pyYY8M",
        "outputId": "a50d85ac-5ac4-42c7-ccd4-0e8981545545"
      },
      "source": [
        "batch_size_list = [16, 64, 256]\n",
        "trained_models = {16: None, 64: None, 256: None}\n",
        "for batch_size in batch_size_list:\n",
        "  lrs = [None, None, None]\n",
        "  ### YOUR CODE HERE ###\n",
        "  lrs = [1.0, 1.0, 0.1]\n",
        "  trainloader_for_batch_size = get_trainloader(batch_size)\n",
        "  trained_models[batch_size] = train_resnet(SGD, trainloader_for_batch_size, device, lrs=lrs)"
      ],
      "execution_count": null,
      "outputs": [
        {
          "output_type": "stream",
          "text": [
            "[In epoch 1, iteration 200] loss: 2.225\n",
            "[In epoch 1, iteration 400] loss: 2.002\n",
            "[In epoch 1, iteration 600] loss: 1.905\n",
            "[In epoch 1, iteration 800] loss: 1.832\n",
            "[In epoch 1, iteration 1000] loss: 1.780\n",
            "[In epoch 1, iteration 1200] loss: 1.744\n",
            "[In epoch 1, iteration 1400] loss: 1.710\n",
            "[In epoch 1, iteration 1600] loss: 1.676\n",
            "[In epoch 1, iteration 1800] loss: 1.652\n",
            "[In epoch 1, iteration 2000] loss: 1.627\n",
            "[In epoch 1, iteration 2200] loss: 1.605\n",
            "[In epoch 1, iteration 2400] loss: 1.585\n",
            "[In epoch 1, iteration 2600] loss: 1.569\n",
            "[In epoch 1, iteration 2800] loss: 1.552\n",
            "[In epoch 1, iteration 3000] loss: 1.538\n",
            "[After epoch 1] loss: 1.527\n",
            "[In epoch 2, iteration 200] loss: 1.203\n",
            "[In epoch 2, iteration 400] loss: 1.216\n",
            "[In epoch 2, iteration 600] loss: 1.221\n",
            "[In epoch 2, iteration 800] loss: 1.217\n",
            "[In epoch 2, iteration 1000] loss: 1.207\n",
            "[In epoch 2, iteration 1200] loss: 1.204\n",
            "[In epoch 2, iteration 1400] loss: 1.198\n",
            "[In epoch 2, iteration 1600] loss: 1.193\n",
            "[In epoch 2, iteration 1800] loss: 1.189\n",
            "[In epoch 2, iteration 2000] loss: 1.188\n",
            "[In epoch 2, iteration 2200] loss: 1.180\n",
            "[In epoch 2, iteration 2400] loss: 1.174\n",
            "[In epoch 2, iteration 2600] loss: 1.171\n",
            "[In epoch 2, iteration 2800] loss: 1.168\n",
            "[In epoch 2, iteration 3000] loss: 1.164\n",
            "[After epoch 2] loss: 1.161\n",
            "[In epoch 3, iteration 200] loss: 0.988\n",
            "[In epoch 3, iteration 400] loss: 0.970\n",
            "[In epoch 3, iteration 600] loss: 0.946\n",
            "[In epoch 3, iteration 800] loss: 0.936\n",
            "[In epoch 3, iteration 1000] loss: 0.926\n",
            "[In epoch 3, iteration 1200] loss: 0.922\n",
            "[In epoch 3, iteration 1400] loss: 0.915\n",
            "[In epoch 3, iteration 1600] loss: 0.910\n",
            "[In epoch 3, iteration 1800] loss: 0.906\n",
            "[In epoch 3, iteration 2000] loss: 0.903\n",
            "[In epoch 3, iteration 2200] loss: 0.897\n",
            "[In epoch 3, iteration 2400] loss: 0.896\n",
            "[In epoch 3, iteration 2600] loss: 0.894\n",
            "[In epoch 3, iteration 2800] loss: 0.890\n",
            "[In epoch 3, iteration 3000] loss: 0.888\n",
            "[After epoch 3] loss: 0.887\n",
            "Finished Training\n",
            "[In epoch 1, iteration 200] loss: 1.835\n",
            "[In epoch 1, iteration 400] loss: 1.657\n",
            "[In epoch 1, iteration 600] loss: 1.553\n",
            "[After epoch 1] loss: 1.483\n",
            "[In epoch 2, iteration 200] loss: 1.156\n",
            "[In epoch 2, iteration 400] loss: 1.136\n",
            "[In epoch 2, iteration 600] loss: 1.115\n",
            "[After epoch 2] loss: 1.096\n",
            "[In epoch 3, iteration 200] loss: 0.877\n",
            "[In epoch 3, iteration 400] loss: 0.838\n",
            "[In epoch 3, iteration 600] loss: 0.826\n",
            "[After epoch 3] loss: 0.818\n",
            "Finished Training\n",
            "[After epoch 1] loss: 1.596\n",
            "[After epoch 2] loss: 1.149\n",
            "[After epoch 3] loss: 0.880\n",
            "Finished Training\n"
          ],
          "name": "stdout"
        }
      ]
    },
    {
      "cell_type": "code",
      "metadata": {
        "id": "sRcHDkyi-lUT",
        "colab": {
          "base_uri": "https://localhost:8080/"
        },
        "outputId": "a352140f-83f9-4a96-c58f-4671d472c31c"
      },
      "source": [
        "for batch_size in batch_size_list:\n",
        "  test_accuracy = get_test_accuracy(trained_models[batch_size])\n",
        "  train_accuracy = get_train_accuracy(trained_models[batch_size])\n",
        "  print(\"[batch size %d] train accuracy: %d , test accuracy: %d\" % (batch_size, train_accuracy, test_accuracy))"
      ],
      "execution_count": null,
      "outputs": [
        {
          "output_type": "stream",
          "text": [
            "[batch size 16] train accuracy: 75 , test accuracy: 71\n",
            "[batch size 64] train accuracy: 76 , test accuracy: 71\n",
            "[batch size 256] train accuracy: 73 , test accuracy: 68\n"
          ],
          "name": "stdout"
        }
      ]
    },
    {
      "cell_type": "code",
      "metadata": {
        "id": "3TAFPkUfSS70"
      },
      "source": [
        ""
      ],
      "execution_count": null,
      "outputs": []
    }
  ]
}